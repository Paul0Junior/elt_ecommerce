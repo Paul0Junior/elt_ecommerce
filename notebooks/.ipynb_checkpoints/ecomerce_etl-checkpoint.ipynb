{
 "cells": [
  {
   "cell_type": "markdown",
   "id": "8b976947-c90e-453c-ab77-096daf618c54",
   "metadata": {},
   "source": [
    "# Pipeline de ELT para Dados de Vendas"
   ]
  },
  {
   "cell_type": "markdown",
   "id": "7492c27f-780f-40b3-9f7c-958bea9c0875",
   "metadata": {},
   "source": [
    "Para simular uma base de dados de um e-comerce, utilizarei o site kaggle.com.\n",
    "Abaixo segue o link para o arquivo utilizado:\n",
    "https://www.kaggle.com/datasets/carrie1/ecommerce-data"
   ]
  },
  {
   "cell_type": "code",
   "execution_count": 1,
   "id": "0adbbbb4-24c0-4fdc-9210-31fb3bc61c37",
   "metadata": {},
   "outputs": [],
   "source": [
    "# Importando bibliotecas para manipulação do arquivo:\n",
    "import zipfile as zp\n",
    "import os\n",
    "import pandas as pd\n",
    "import numpy as np\n",
    "from google.cloud import bigquery"
   ]
  },
  {
   "cell_type": "markdown",
   "id": "3566d76c-df1c-462e-b553-6a65541c0256",
   "metadata": {},
   "source": [
    "# Mapeando o diretório de origem e destino da extração do arquivo .zip"
   ]
  },
  {
   "cell_type": "code",
   "execution_count": 2,
   "id": "d1b8afea-a4eb-45c2-bb11-861162804512",
   "metadata": {},
   "outputs": [],
   "source": [
    "origem_zip = 'D:/Estudos/Projetos Pessoais/elt_ecommerce/dataset/archive.zip'\n",
    "destino_zip = 'D:/Estudos/Projetos Pessoais/elt_ecommerce/dataset/'\n",
    "dataset = 'D:/Estudos/Projetos Pessoais/elt_ecommerce/dataset/data.csv'\n",
    "global dataset"
   ]
  },
  {
   "cell_type": "code",
   "execution_count": 3,
   "id": "89915f86-e311-475b-b856-1bd0251f1ec6",
   "metadata": {},
   "outputs": [],
   "source": [
    "# Criando o diretório caso não exista ainda:\n",
    "os.makedirs(destino_zip, exist_ok=True)"
   ]
  },
  {
   "cell_type": "markdown",
   "id": "9ad376d0-33d5-4dbb-930d-4d2c88e76a2e",
   "metadata": {},
   "source": [
    "# Extraindo o arquivo:"
   ]
  },
  {
   "cell_type": "code",
   "execution_count": 4,
   "id": "14e3b769-6949-4a07-a961-258a742c0101",
   "metadata": {},
   "outputs": [
    {
     "name": "stdout",
     "output_type": "stream",
     "text": [
      "Arquivos extraídos para D:/Estudos/Projetos Pessoais/elt_ecommerce/dataset/\n"
     ]
    }
   ],
   "source": [
    "with zp.ZipFile(origem_zip, 'r') as zip_ref:\n",
    "    zip_ref.extractall(destino_zip)\n",
    "\n",
    "print(f'Arquivos extraídos para {destino_zip}')"
   ]
  },
  {
   "cell_type": "markdown",
   "id": "d0ec379c-771a-42e1-9f2c-32343e464ebf",
   "metadata": {},
   "source": [
    "# Identificando a encodificação do arquivo:"
   ]
  },
  {
   "cell_type": "code",
   "execution_count": 5,
   "id": "8d1c7f58-e98e-4085-8a1f-32437ab6969f",
   "metadata": {},
   "outputs": [
    {
     "name": "stdout",
     "output_type": "stream",
     "text": [
      "Detected encoding: ascii with confidence: 1.0\n"
     ]
    }
   ],
   "source": [
    "import chardet\n",
    "\n",
    "# Function to detect encoding of a file\n",
    "def detect_encoding(file_path):\n",
    "    with open(file_path, 'rb') as file:\n",
    "        # Read a portion of the file, as full file reading might be unnecessary and slow\n",
    "        raw_data = file.read(100000)  # Read the first 100,000 bytes\n",
    "        result = chardet.detect(raw_data)\n",
    "        encoding = result['encoding']\n",
    "        confidence = result['confidence']\n",
    "    return encoding, confidence\n",
    "\n",
    "# Path to your file\n",
    "file_path = dataset\n",
    "\n",
    "# Detect encoding\n",
    "encoding, confidence = detect_encoding(file_path)\n",
    "print(f\"Detected encoding: {encoding} with confidence: {confidence}\")"
   ]
  },
  {
   "cell_type": "markdown",
   "id": "1c598ec9-d20d-449c-b269-d1dbba4f97f7",
   "metadata": {},
   "source": [
    "# Lendo o arquivo:"
   ]
  },
  {
   "cell_type": "code",
   "execution_count": 6,
   "id": "79acf077-dae7-48e4-83f5-59b4a06a3694",
   "metadata": {},
   "outputs": [
    {
     "name": "stdout",
     "output_type": "stream",
     "text": [
      "  InvoiceNo StockCode                          Description  Quantity  \\\n",
      "0    536365    85123A   WHITE HANGING HEART T-LIGHT HOLDER         6   \n",
      "1    536365     71053                  WHITE METAL LANTERN         6   \n",
      "2    536365    84406B       CREAM CUPID HEARTS COAT HANGER         8   \n",
      "3    536365    84029G  KNITTED UNION FLAG HOT WATER BOTTLE         6   \n",
      "4    536365    84029E       RED WOOLLY HOTTIE WHITE HEART.         6   \n",
      "5    536365     22752         SET 7 BABUSHKA NESTING BOXES         2   \n",
      "6    536365     21730    GLASS STAR FROSTED T-LIGHT HOLDER         6   \n",
      "7    536366     22633               HAND WARMER UNION JACK         6   \n",
      "8    536366     22632            HAND WARMER RED POLKA DOT         6   \n",
      "9    536367     84879        ASSORTED COLOUR BIRD ORNAMENT        32   \n",
      "\n",
      "      InvoiceDate  UnitPrice CustomerID         Country  \n",
      "0  12/1/2010 8:26       2.55      17850  United Kingdom  \n",
      "1  12/1/2010 8:26       3.39      17850  United Kingdom  \n",
      "2  12/1/2010 8:26       2.75      17850  United Kingdom  \n",
      "3  12/1/2010 8:26       3.39      17850  United Kingdom  \n",
      "4  12/1/2010 8:26       3.39      17850  United Kingdom  \n",
      "5  12/1/2010 8:26       7.65      17850  United Kingdom  \n",
      "6  12/1/2010 8:26       4.25      17850  United Kingdom  \n",
      "7  12/1/2010 8:28       1.85      17850  United Kingdom  \n",
      "8  12/1/2010 8:28       1.85      17850  United Kingdom  \n",
      "9  12/1/2010 8:34       1.69      13047  United Kingdom  \n"
     ]
    }
   ],
   "source": [
    "df = pd.read_csv(dataset, encoding='ISO-8859-1', dtype={'CustomerID': str})\n",
    "print(df.head(10))"
   ]
  },
  {
   "cell_type": "markdown",
   "id": "4e88209b-a621-4bb8-b9f8-1e1fd2f2492c",
   "metadata": {},
   "source": [
    "# Credenciais google\n",
    "Definindo o caminho para a chave .json usada na API de conexão"
   ]
  },
  {
   "cell_type": "code",
   "execution_count": 7,
   "id": "62187c2a-44be-4af3-85ef-59a15153526d",
   "metadata": {},
   "outputs": [],
   "source": [
    "import os\n",
    "os.environ[\"GOOGLE_APPLICATION_CREDENTIALS\"] = \"D:/Estudos/Projetos Pessoais/elt_ecommerce/acces_key_gcp/key.json\""
   ]
  },
  {
   "cell_type": "markdown",
   "id": "9a31d1dd-736c-48d1-bac0-92b5f86dad3e",
   "metadata": {},
   "source": [
    "# Limpando a tabela caso exista"
   ]
  },
  {
   "cell_type": "code",
   "execution_count": 8,
   "id": "0b95a83f-853c-4b7e-aca8-9d586dd43a30",
   "metadata": {},
   "outputs": [
    {
     "name": "stdout",
     "output_type": "stream",
     "text": [
      " A tabela ecomerce.ecomerce foi truncada\n"
     ]
    }
   ],
   "source": [
    "def tabela_existe(client, dataset_id, table_id):\n",
    "    try:\n",
    "        client.get_table(f'{dataset_id}.{table_id}')\n",
    "        return True\n",
    "    except Exception as e:\n",
    "        if 'Not found' in str(e):\n",
    "            return False\n",
    "        else:\n",
    "            raise\n",
    "\n",
    "def truncar_tabela(client, dataset_id, table_id):\n",
    "    query = f'TRUNCATE TABLE `{dataset_id}.{table_id}`'\n",
    "    query_job = client.query(query)\n",
    "    query_job.result() # Aguarda o fim da execução\n",
    "    print(f' A tabela {dataset_id}.{table_id} foi truncada')\n",
    "\n",
    "def main():\n",
    "    client = bigquery.Client()\n",
    "    dataset_id = 'ecomerce'\n",
    "    table_id = 'ecomerce'\n",
    "\n",
    "    if tabela_existe(client, dataset_id, table_id):\n",
    "        truncar_tabela(client, dataset_id, table_id)\n",
    "    else:\n",
    "        print(f'A tabela {dataset_id}.{table_id} não existe')\n",
    "\n",
    "if __name__ == '__main__':\n",
    "    main()"
   ]
  },
  {
   "cell_type": "markdown",
   "id": "8288a77c-3b62-4332-95dd-b4a976b90416",
   "metadata": {},
   "source": [
    "# Carregando os dados coletados para o GCP"
   ]
  },
  {
   "cell_type": "code",
   "execution_count": 9,
   "id": "af9b8925-8eac-4416-8c4a-d9599a498b7c",
   "metadata": {},
   "outputs": [],
   "source": [
    "#Instalada a biblioteca google cloud bigquery\n",
    "#pip install google-cloud-bigquery"
   ]
  },
  {
   "cell_type": "code",
   "execution_count": 10,
   "id": "29f93b78-754c-4a93-89e3-c2005742e6be",
   "metadata": {},
   "outputs": [],
   "source": [
    "from google.cloud import bigquery\n",
    "\n",
    "# Parâmetros\n",
    "dataset_id = 'ecomerce'\n",
    "table_id = 'ecomerce'\n",
    "source_file_name = 'D:/Estudos/Projetos Pessoais/elt_ecommerce/dataset/data.csv'\n",
    "\n",
    "def carga_gbq(dataset_id, table_id, source_file_name):\n",
    "    #Cria um cliente BigQuery\n",
    "    client = bigquery.Client()\n",
    "\n",
    "    #Define o dataset e a tabela\n",
    "    table_ref = client.dataset(dataset_id).table(table_id)\n",
    "\n",
    "    #Configura o job de carregamento\n",
    "    job_config = bigquery.LoadJobConfig(\n",
    "        source_format=bigquery.SourceFormat.CSV,\n",
    "        skip_leading_rows=1, #Pular a primeira linha(cabeçalho)\n",
    "        autodetect=True,     #Tentar detectar o esquema automáticamente(Colunas)\n",
    "    )\n",
    "\n",
    "    #Lê o arquivo CSV e inicia o job de carregamento\n",
    "    with open(source_file_name, \"rb\") as source_file:\n",
    "        load_job = client.load_table_from_file(source_file, table_ref, job_config=job_config)\n",
    "\n",
    "    print('Iniciando o job de carregamento {}'.format(load_job.job_id))\n",
    "\n",
    "    load_job.result() #Espera o job ser concluído\n",
    "\n",
    "    print('Carregamento concluído.')\n",
    "\n",
    "    #Verifica o número de linhas carregadas\n",
    "    destination_table = client.get_table(table_ref)\n",
    "    print('Carregou {} linhas.'.format(destination_table.num_rows))\n",
    "\n",
    "\n"
   ]
  },
  {
   "cell_type": "code",
   "execution_count": 11,
   "id": "0b749b20-5815-4a64-9a37-6bd8cbb05cf9",
   "metadata": {},
   "outputs": [
    {
     "name": "stdout",
     "output_type": "stream",
     "text": [
      "Iniciando o job de carregamento 7a90878b-f29b-44e8-9275-9372cbaaf5a6\n",
      "Carregamento concluído.\n",
      "Carregou 541909 linhas.\n"
     ]
    }
   ],
   "source": [
    "#Executa a carga\n",
    "carga_gbq(dataset_id, table_id, source_file_name)"
   ]
  },
  {
   "cell_type": "markdown",
   "id": "5dbdc129-18ac-434c-9ec1-ad3308420faf",
   "metadata": {},
   "source": [
    "# Executando uma consulta de testes"
   ]
  },
  {
   "cell_type": "code",
   "execution_count": null,
   "id": "7d4e0dd2-390f-4490-a15f-4f7824c45ec9",
   "metadata": {},
   "outputs": [],
   "source": [
    "client = bigquery.Client()\n",
    "query = \"select distinct * from `probable-tape-423914-a4.ecomerce.ecomerce` where description is not null and description != '?'\"\n",
    "\n",
    "query_job = client.query(query)\n",
    "\n",
    "#Resultados \n",
    "query_result = query_job.result()\n",
    "\n",
    "for row in query_result:\n",
    "    print(f'Description: {row.Description}')\n"
   ]
  }
 ],
 "metadata": {
  "kernelspec": {
   "display_name": "Python 3 (ipykernel)",
   "language": "python",
   "name": "python3"
  },
  "language_info": {
   "codemirror_mode": {
    "name": "ipython",
    "version": 3
   },
   "file_extension": ".py",
   "mimetype": "text/x-python",
   "name": "python",
   "nbconvert_exporter": "python",
   "pygments_lexer": "ipython3",
   "version": "3.11.7"
  }
 },
 "nbformat": 4,
 "nbformat_minor": 5
}
